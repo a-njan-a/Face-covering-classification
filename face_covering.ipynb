{
  "nbformat": 4,
  "nbformat_minor": 0,
  "metadata": {
    "colab": {
      "provenance": [],
      "mount_file_id": "15NxKzdJQtIdwu8Y0hWDnqV2F2kswtVXr",
      "authorship_tag": "ABX9TyNFcFgoTvx7HQoaLrDHZbx4"
    },
    "kernelspec": {
      "name": "python3",
      "display_name": "Python 3"
    },
    "language_info": {
      "name": "python"
    }
  },
  "cells": [
    {
      "cell_type": "code",
      "execution_count": 1,
      "metadata": {
        "id": "NK2wQG8sJIja"
      },
      "outputs": [],
      "source": [
        "#Importing libraries\n",
        "import numpy as np\n",
        "import tensorflow as tf\n",
        "import pandas as pd\n",
        "from tensorflow import keras\n"
      ]
    },
    {
      "cell_type": "code",
      "source": [
        "from google.colab import drive\n",
        "drive.mount('/content/drive')"
      ],
      "metadata": {
        "colab": {
          "base_uri": "https://localhost:8080/"
        },
        "id": "vEydsOUfJoHJ",
        "outputId": "3c257ea2-2f86-4472-d7bc-3f87fbe24a87"
      },
      "execution_count": 2,
      "outputs": [
        {
          "output_type": "stream",
          "name": "stdout",
          "text": [
            "Drive already mounted at /content/drive; to attempt to forcibly remount, call drive.mount(\"/content/drive\", force_remount=True).\n"
          ]
        }
      ]
    },
    {
      "cell_type": "code",
      "source": [
        "\n",
        "\n",
        "import os\n",
        "import random\n",
        "import shutil\n",
        "\n",
        "# Set the paths for the main directory, train directory, and test directory\n",
        "main_directory = '/content/drive/MyDrive/Projects/Face covering classification/glasses-and-coverings'\n",
        "train_set = '/content/drive/MyDrive/Projects/Face covering classification/train'\n",
        "test_set = '/content/drive/MyDrive/Projects/Face covering classification/test'\n",
        "\n",
        "# Create the train and test directories if they don't exist\n",
        "os.makedirs(train_set, exist_ok=True)\n",
        "os.makedirs(test_set, exist_ok=True)\n",
        "\n",
        "# Set the split ratio for train and test (80% train, 20% test)\n",
        "split_ratio = 0.8\n",
        "\n",
        "# Iterate through each folder in the main directory\n",
        "for folder_name in os.listdir(main_directory):\n",
        "    folder_path = os.path.join(main_directory, folder_name)\n",
        "    if not os.path.isdir(folder_path):\n",
        "        continue\n",
        "\n",
        "    # Create the corresponding subdirectories in the train and test directories\n",
        "    train_folder_path = os.path.join(train_set, folder_name)\n",
        "    test_folder_path = os.path.join(test_set, folder_name)\n",
        "    os.makedirs(train_folder_path, exist_ok=True)\n",
        "    os.makedirs(test_folder_path, exist_ok=True)\n",
        "\n",
        "    # List all the image files in the current folder\n",
        "    image_files = [\n",
        "        file_name\n",
        "        for file_name in os.listdir(folder_path)\n",
        "        if os.path.isfile(os.path.join(folder_path, file_name))\n",
        "           and file_name.lower().endswith((\".jpg\", \".jpeg\", \".png\"))\n",
        "    ]\n",
        "\n",
        "    # Shuffle the list of image files randomly\n",
        "    random.shuffle(image_files)\n",
        "\n",
        "    # Determine the number of images for the train and test sets\n",
        "    split_index = int(len(image_files) * split_ratio)\n",
        "\n",
        "    # Move the train set files to the train folder\n",
        "    for file_name in image_files[:split_index]:\n",
        "        src_path = os.path.join(folder_path, file_name)\n",
        "        dest_path = os.path.join(train_folder_path, file_name)\n",
        "        shutil.move(src_path, dest_path)\n",
        "\n",
        "    # Move the test set files to the test folder\n",
        "    for file_name in image_files[split_index:]:\n",
        "        src_path = os.path.join(folder_path, file_name)\n",
        "        dest_path = os.path.join(test_folder_path, file_name)\n",
        "        shutil.move(src_path, dest_path)"
      ],
      "metadata": {
        "id": "T48uke6qJyvs"
      },
      "execution_count": 3,
      "outputs": []
    },
    {
      "cell_type": "code",
      "source": [
        "from keras.preprocessing.image import ImageDataGenerator\n",
        "\n",
        "train_datagen = ImageDataGenerator(rescale = 1./255,\n",
        "                                   shear_range = 0.2,\n",
        "                                   zoom_range = 0.2,\n",
        "                                   horizontal_flip = True)\n",
        "training_set = train_datagen.flow_from_directory('/content/drive/MyDrive/Projects/Face covering classification/train',\n",
        "                                                 target_size = (64, 64),\n",
        "                                                 batch_size = 32,\n",
        "                                                 class_mode = 'binary')"
      ],
      "metadata": {
        "id": "ux1KpX7HK7Ng",
        "colab": {
          "base_uri": "https://localhost:8080/"
        },
        "outputId": "9e75f79e-4a2a-41a7-a4d7-f85664acbf8a"
      },
      "execution_count": 5,
      "outputs": [
        {
          "output_type": "stream",
          "name": "stdout",
          "text": [
            "Found 1566 images belonging to 4 classes.\n"
          ]
        }
      ]
    },
    {
      "cell_type": "code",
      "source": [
        "test_datagen = ImageDataGenerator(rescale = 1./255)\n",
        "test_set = test_datagen.flow_from_directory('/content/drive/MyDrive/Projects/Face covering classification/test',\n",
        "                                            target_size = (64, 64),\n",
        "                                            batch_size = 32,\n",
        "                                            class_mode = 'binary')"
      ],
      "metadata": {
        "colab": {
          "base_uri": "https://localhost:8080/"
        },
        "id": "8OLJGchUel1p",
        "outputId": "00669f98-bcca-4a5b-ef31-98d8401da5cc"
      },
      "execution_count": 6,
      "outputs": [
        {
          "output_type": "stream",
          "name": "stdout",
          "text": [
            "Found 395 images belonging to 4 classes.\n"
          ]
        }
      ]
    },
    {
      "cell_type": "code",
      "source": [
        "cnn = tf.keras.models.Sequential()\n",
        "cnn.add(tf.keras.layers.Conv2D(filters=32, kernel_size=3, activation='relu', input_shape=[64, 64, 3]))\n",
        "cnn.add(tf.keras.layers.MaxPool2D(pool_size=2, strides=2))\n",
        "cnn.add(tf.keras.layers.Conv2D(filters=32, kernel_size=3, activation='relu'))\n",
        "cnn.add(tf.keras.layers.MaxPool2D(pool_size=2, strides=2))\n",
        "cnn.add(tf.keras.layers.Flatten())\n",
        "cnn.add(tf.keras.layers.Dense(units=128, activation='relu'))\n",
        "cnn.add(tf.keras.layers.Dense(units=1, activation='sigmoid'))\n",
        "cnn.compile(optimizer = 'adam', loss = 'categorical_crossentropy', metrics = ['accuracy'])"
      ],
      "metadata": {
        "id": "ZlhMoMk6fG9Z"
      },
      "execution_count": 7,
      "outputs": []
    },
    {
      "cell_type": "code",
      "source": [
        "cnn.fit(x = training_set, validation_data = test_set, epochs = 25)"
      ],
      "metadata": {
        "colab": {
          "base_uri": "https://localhost:8080/"
        },
        "id": "fx-9pDFwgNhS",
        "outputId": "80fa0e69-431e-4fd2-c1c7-ed6cd7af99ed"
      },
      "execution_count": 8,
      "outputs": [
        {
          "output_type": "stream",
          "name": "stdout",
          "text": [
            "Epoch 1/25\n"
          ]
        },
        {
          "output_type": "stream",
          "name": "stderr",
          "text": [
            "/usr/local/lib/python3.10/dist-packages/tensorflow/python/util/dispatch.py:1176: SyntaxWarning: In loss categorical_crossentropy, expected y_pred.shape to be (batch_size, num_classes) with num_classes > 1. Received: y_pred.shape=(None, 1). Consider using 'binary_crossentropy' if you only have 2 classes.\n",
            "  return dispatch_target(*args, **kwargs)\n"
          ]
        },
        {
          "output_type": "stream",
          "name": "stdout",
          "text": [
            "49/49 [==============================] - 872s 18s/step - loss: 0.0000e+00 - accuracy: 0.2682 - val_loss: 0.0000e+00 - val_accuracy: 0.2684\n",
            "Epoch 2/25\n",
            "49/49 [==============================] - 13s 274ms/step - loss: 0.0000e+00 - accuracy: 0.2682 - val_loss: 0.0000e+00 - val_accuracy: 0.2684\n",
            "Epoch 3/25\n",
            "49/49 [==============================] - 14s 292ms/step - loss: 0.0000e+00 - accuracy: 0.2682 - val_loss: 0.0000e+00 - val_accuracy: 0.2684\n",
            "Epoch 4/25\n",
            "49/49 [==============================] - 14s 277ms/step - loss: 0.0000e+00 - accuracy: 0.2682 - val_loss: 0.0000e+00 - val_accuracy: 0.2684\n",
            "Epoch 5/25\n",
            "49/49 [==============================] - 13s 269ms/step - loss: 0.0000e+00 - accuracy: 0.2682 - val_loss: 0.0000e+00 - val_accuracy: 0.2684\n",
            "Epoch 6/25\n",
            "49/49 [==============================] - 13s 273ms/step - loss: 0.0000e+00 - accuracy: 0.2682 - val_loss: 0.0000e+00 - val_accuracy: 0.2684\n",
            "Epoch 7/25\n",
            "49/49 [==============================] - 14s 278ms/step - loss: 0.0000e+00 - accuracy: 0.2682 - val_loss: 0.0000e+00 - val_accuracy: 0.2684\n",
            "Epoch 8/25\n",
            "49/49 [==============================] - 14s 292ms/step - loss: 0.0000e+00 - accuracy: 0.2682 - val_loss: 0.0000e+00 - val_accuracy: 0.2684\n",
            "Epoch 9/25\n",
            "49/49 [==============================] - 14s 276ms/step - loss: 0.0000e+00 - accuracy: 0.2682 - val_loss: 0.0000e+00 - val_accuracy: 0.2684\n",
            "Epoch 10/25\n",
            "49/49 [==============================] - 14s 276ms/step - loss: 0.0000e+00 - accuracy: 0.2682 - val_loss: 0.0000e+00 - val_accuracy: 0.2684\n",
            "Epoch 11/25\n",
            "49/49 [==============================] - 14s 277ms/step - loss: 0.0000e+00 - accuracy: 0.2682 - val_loss: 0.0000e+00 - val_accuracy: 0.2684\n",
            "Epoch 12/25\n",
            "49/49 [==============================] - 14s 291ms/step - loss: 0.0000e+00 - accuracy: 0.2682 - val_loss: 0.0000e+00 - val_accuracy: 0.2684\n",
            "Epoch 13/25\n",
            "49/49 [==============================] - 13s 267ms/step - loss: 0.0000e+00 - accuracy: 0.2682 - val_loss: 0.0000e+00 - val_accuracy: 0.2684\n",
            "Epoch 14/25\n",
            "49/49 [==============================] - 15s 297ms/step - loss: 0.0000e+00 - accuracy: 0.2682 - val_loss: 0.0000e+00 - val_accuracy: 0.2684\n",
            "Epoch 15/25\n",
            "49/49 [==============================] - 13s 266ms/step - loss: 0.0000e+00 - accuracy: 0.2682 - val_loss: 0.0000e+00 - val_accuracy: 0.2684\n",
            "Epoch 16/25\n",
            "49/49 [==============================] - 13s 271ms/step - loss: 0.0000e+00 - accuracy: 0.2682 - val_loss: 0.0000e+00 - val_accuracy: 0.2684\n",
            "Epoch 17/25\n",
            "49/49 [==============================] - 14s 276ms/step - loss: 0.0000e+00 - accuracy: 0.2682 - val_loss: 0.0000e+00 - val_accuracy: 0.2684\n",
            "Epoch 18/25\n",
            "49/49 [==============================] - 13s 273ms/step - loss: 0.0000e+00 - accuracy: 0.2682 - val_loss: 0.0000e+00 - val_accuracy: 0.2684\n",
            "Epoch 19/25\n",
            "49/49 [==============================] - 13s 275ms/step - loss: 0.0000e+00 - accuracy: 0.2682 - val_loss: 0.0000e+00 - val_accuracy: 0.2684\n",
            "Epoch 20/25\n",
            "49/49 [==============================] - 13s 267ms/step - loss: 0.0000e+00 - accuracy: 0.2682 - val_loss: 0.0000e+00 - val_accuracy: 0.2684\n",
            "Epoch 21/25\n",
            "49/49 [==============================] - 13s 269ms/step - loss: 0.0000e+00 - accuracy: 0.2682 - val_loss: 0.0000e+00 - val_accuracy: 0.2684\n",
            "Epoch 22/25\n",
            "49/49 [==============================] - 13s 274ms/step - loss: 0.0000e+00 - accuracy: 0.2682 - val_loss: 0.0000e+00 - val_accuracy: 0.2684\n",
            "Epoch 23/25\n",
            "49/49 [==============================] - 13s 270ms/step - loss: 0.0000e+00 - accuracy: 0.2682 - val_loss: 0.0000e+00 - val_accuracy: 0.2684\n",
            "Epoch 24/25\n",
            "49/49 [==============================] - 13s 267ms/step - loss: 0.0000e+00 - accuracy: 0.2682 - val_loss: 0.0000e+00 - val_accuracy: 0.2684\n",
            "Epoch 25/25\n",
            "49/49 [==============================] - 13s 272ms/step - loss: 0.0000e+00 - accuracy: 0.2682 - val_loss: 0.0000e+00 - val_accuracy: 0.2684\n"
          ]
        },
        {
          "output_type": "execute_result",
          "data": {
            "text/plain": [
              "<keras.callbacks.History at 0x7f51bb887340>"
            ]
          },
          "metadata": {},
          "execution_count": 8
        }
      ]
    },
    {
      "cell_type": "code",
      "source": [
        "import numpy as np\n",
        "from keras.preprocessing import image\n",
        "test_image = tf.keras.utils.load_img('/content/drive/MyDrive/Projects/Face covering classification/test/plain/2017-11-30-18-15-41.jpg', target_size = (64, 64))\n",
        "test_image = tf.keras.utils.img_to_array(test_image)\n",
        "test_image = np.expand_dims(test_image, axis = 0)\n",
        "result = cnn.predict(test_image)\n",
        "training_set.class_indices\n",
        "if result[0][0] == 0:\n",
        "  prediction = 'covering'\n",
        "elif result[0][0] == 1:\n",
        "  prediction = 'glasses'\n",
        "elif result[0][0] == 2:\n",
        "  prediction = 'plain'\n",
        "elif result[0][0] == 3:\n",
        "  prediction = 'sunglasses'\n",
        "\n",
        "print(prediction)"
      ],
      "metadata": {
        "colab": {
          "base_uri": "https://localhost:8080/"
        },
        "id": "90b1x3rel7z9",
        "outputId": "7b693607-5c09-41bb-d88d-475e03e54b06"
      },
      "execution_count": 10,
      "outputs": [
        {
          "output_type": "stream",
          "name": "stdout",
          "text": [
            "1/1 [==============================] - 0s 21ms/step\n",
            "glasses\n"
          ]
        }
      ]
    },
    {
      "cell_type": "code",
      "source": [],
      "metadata": {
        "id": "t2XnVl1cmbTc"
      },
      "execution_count": null,
      "outputs": []
    }
  ]
}